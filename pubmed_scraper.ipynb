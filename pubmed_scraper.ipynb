{
 "cells": [
  {
   "cell_type": "code",
   "execution_count": 26,
   "id": "45cc1f2d-b7e0-4c3b-a524-a47e195403aa",
   "metadata": {},
   "outputs": [],
   "source": [
    "import pandas as pd\n",
    "import numpy as np\n",
    "import requests\n",
    "from bs4 import BeautifulSoup\n",
    "import time\n",
    "import ipywidgets as widgets  # Importing ipywidgets\n",
    "from IPython.display import display, HTML\n",
    "from collections import Counter\n",
    "import plotly.express as px\n",
    "\n",
    "def scrape_page(search_term_input,page_num):\n",
    "    i = 0\n",
    "    df = pd.DataFrame() \n",
    "    while i < page_num+1:\n",
    "        data = {\"Name\": [], \"Authors\": [], \"Citation\": [], \"PMID\": []}\n",
    "        page_url = f\"https://pubmed.ncbi.nlm.nih.gov/?term={search_term_input}&page={i}\"\n",
    "        page_response = requests.get(page_url)\n",
    "        page_soup = BeautifulSoup(page_response.text, \"html.parser\")\n",
    "    \n",
    "        names = [i.text.strip() for i in page_soup.find_all(\"a\", class_=\"docsum-title\")]\n",
    "        auth_name = [i.text.strip() for i in page_soup.find_all(\"span\", class_=\"docsum-authors full-authors\")]\n",
    "        cite = [i.text.strip() for i in page_soup.find_all(\"span\", class_=\"docsum-journal-citation full-journal-citation\")]\n",
    "        pmid = [i.text.strip() for i in page_soup.find_all(\"span\", class_=\"docsum-pmid\")]\n",
    "        round = pd.DataFrame({\"Name\": names, \"Authors\": auth_name, \"Citation\": cite, \"PMID\": pmid})\n",
    "        df = pd.concat([round,df],axis=0) \n",
    "        time.sleep(1)\n",
    "        i += 1\n",
    "    return df\n",
    "\n",
    "\n",
    "\n",
    "def plot_author_frequency(df, column_name='Authors', top_n=20):\n",
    "    # Step 1: Consolidate all author names into a single list\n",
    "    author_list = df[column_name].str.split(',').explode().str.strip()\n",
    "    \n",
    "    # Step 2: Count occurrences of each author\n",
    "    author_count = Counter(author_list)\n",
    "    \n",
    "    # Step 3: Convert the counter to a DataFrame for easy plotting\n",
    "    author_df = pd.DataFrame(author_count.items(), columns=['Author', 'Count'])\n",
    "    \n",
    "    # Step 4: Sort by count for better visualization\n",
    "    author_df = author_df.sort_values(by='Count', ascending=False).head(top_n)\n",
    "    \n",
    "    # Step 5: Plot the result using Plotly\n",
    "    fig = px.bar(\n",
    "        author_df, x='Author', y='Count', title=f'Top {top_n} Authors by Article Frequency', labels={'Count': 'Occurrences'}    )   \n",
    "    # Show plot\n",
    "    fig.show()\n",
    "    return fig\n",
    "\n"
   ]
  },
  {
   "cell_type": "code",
   "execution_count": 28,
   "id": "df02f12a-fe00-4d41-81e6-e96a2492e63f",
   "metadata": {},
   "outputs": [
    {
     "data": {
      "application/vnd.jupyter.widget-view+json": {
       "model_id": "b8ee9ac9a6654decb68f23ca20e811de",
       "version_major": 2,
       "version_minor": 0
      },
      "text/plain": [
       "Text(value='', description='Search Term:', placeholder='Enter search term')"
      ]
     },
     "metadata": {},
     "output_type": "display_data"
    },
    {
     "data": {
      "application/vnd.jupyter.widget-view+json": {
       "model_id": "8f47497b905c47f285303a3aabf6d43d",
       "version_major": 2,
       "version_minor": 0
      },
      "text/plain": [
       "IntSlider(value=1, continuous_update=False, description='Pages:', min=1)"
      ]
     },
     "metadata": {},
     "output_type": "display_data"
    },
    {
     "data": {
      "application/vnd.jupyter.widget-view+json": {
       "model_id": "ca5e76e0a6b94a559bcc0a91534488a4",
       "version_major": 2,
       "version_minor": 0
      },
      "text/plain": [
       "Dropdown(description='View:', options=('DataFrame', 'Visualization'), value='DataFrame')"
      ]
     },
     "metadata": {},
     "output_type": "display_data"
    },
    {
     "data": {
      "application/vnd.jupyter.widget-view+json": {
       "model_id": "e1446b77afcf43198c1d3a180cc8b691",
       "version_major": 2,
       "version_minor": 0
      },
      "text/plain": [
       "Button(description='Scrape Data', style=ButtonStyle())"
      ]
     },
     "metadata": {},
     "output_type": "display_data"
    },
    {
     "data": {
      "application/vnd.jupyter.widget-view+json": {
       "model_id": "4b224316675c4a979f46e94e40e1cd6a",
       "version_major": 2,
       "version_minor": 0
      },
      "text/plain": [
       "Output()"
      ]
     },
     "metadata": {},
     "output_type": "display_data"
    }
   ],
   "source": [
    "# Create widgets for input\n",
    "search_term = widgets.Text(\n",
    "    description='Search Term:',\n",
    "    placeholder='Enter search term'\n",
    ")\n",
    "\n",
    "page_num = widgets.IntSlider(\n",
    "    value=1,\n",
    "    min=1,\n",
    "    max=100,\n",
    "    step=1,\n",
    "    description='Pages:',\n",
    "    continuous_update=False\n",
    ")\n",
    "\n",
    "# Create a dropdown to select between DataFrame and Visualization\n",
    "view_option = widgets.Dropdown(\n",
    "    options=['DataFrame', 'Visualization'],\n",
    "    value='DataFrame',\n",
    "    description='View:',\n",
    "    disabled=False\n",
    ")\n",
    "\n",
    "# Function to display either DataFrame or Visualization\n",
    "def display_results(search_term_input, page_num_input, view_choice):\n",
    "    with output:\n",
    "        output.clear_output()  # Clear previous output\n",
    "        df = scrape_page(search_term_input, page_num_input)\n",
    "        \n",
    "        if not df.empty:  # Check if DataFrame is not empty\n",
    "            if view_choice == 'DataFrame':\n",
    "                # Create a scrollable display for the DataFrame\n",
    "                scrollable_html = f\"\"\"\n",
    "                <div style=\"height: 400px; overflow-y: auto; overflow-x: hidden; border: 1px solid #ccc; padding: 5px;\">\n",
    "                    {df.to_html(notebook=True, index=False)}\n",
    "                </div>\n",
    "                \"\"\"\n",
    "                display(HTML(scrollable_html))  # Display the scrollable DataFrame\n",
    "            elif view_choice == 'Visualization':\n",
    "                # Plot the author frequency visualization\n",
    "                plot_author_frequency(df)  # Call the visualization function\n",
    "        else:\n",
    "            display(HTML(\"<p>No data found. Please adjust your search criteria.</p>\"))\n",
    "\n",
    "# Output widget to display either DataFrame or Visualization\n",
    "output = widgets.Output()\n",
    "\n",
    "# Create a button to trigger the scraping and visualization\n",
    "scrape_button = widgets.Button(\n",
    "    description='Scrape Data'\n",
    ")\n",
    "\n",
    "# Link the button to the display function\n",
    "scrape_button.on_click(lambda b: display_results(search_term.value, page_num.value, view_option.value))\n",
    "\n",
    "# Display the widgets and output\n",
    "display(search_term, page_num, view_option, scrape_button, output)"
   ]
  }
 ],
 "metadata": {
  "kernelspec": {
   "display_name": "Python 3 (ipykernel)",
   "language": "python",
   "name": "python3"
  },
  "language_info": {
   "codemirror_mode": {
    "name": "ipython",
    "version": 3
   },
   "file_extension": ".py",
   "mimetype": "text/x-python",
   "name": "python",
   "nbconvert_exporter": "python",
   "pygments_lexer": "ipython3",
   "version": "3.10.15"
  }
 },
 "nbformat": 4,
 "nbformat_minor": 5
}
